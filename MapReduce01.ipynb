{
 "cells": [
  {
   "cell_type": "code",
   "execution_count": 4,
   "metadata": {},
   "outputs": [
    {
     "name": "stdout",
     "output_type": "stream",
     "text": [
      "text\\a.txt\n",
      "text\\b.txt\n",
      "text\\c.txt\n",
      "The quick brown fox jumped over the lazy grey dogs.\n",
      "That's one small step for a man, one giant leap for mankind.\n",
      "Mary had a little lamb,\n",
      "\n"
     ]
    }
   ],
   "source": [
    "# MapReduce\n",
    "\n",
    "filenames = [\"text\\\\a.txt\",\"text\\\\b.txt\",\"text\\\\c.txt\"]\n",
    "i = {}\n",
    "for filename in filenames:\n",
    "  f = open(filename)\n",
    "  i[filename] = f.read()\n",
    "  print(filename)\n",
    "  f.close()\n",
    "    \n",
    "for filename in filenames:\n",
    "    file= open(filename)\n",
    "    print(file.readline())\n",
    "\n",
    "def mapper(input_key,input_value):\n",
    "  return [(word,1) for word in \n",
    "          remove_punctuation(input_value.lower()).split()]\n",
    "\n",
    "def remove_punctuation(s):\n",
    "  return s.translate(string.maketrans(\"\",\"\"), string.punctuation)\n",
    "\n",
    "def reducer(intermediate_key,intermediate_value_list):\n",
    "  return (intermediate_key,sum(intermediate_value_list))\n"
   ]
  },
  {
   "cell_type": "code",
   "execution_count": 6,
   "metadata": {},
   "outputs": [
    {
     "name": "stdout",
     "output_type": "stream",
     "text": [
      "map_reduce function loaded\n"
     ]
    }
   ],
   "source": [
    "# map_reduce.py\n",
    "'''\n",
    "\"'Defines a single function, map_reduce, which takes an input\n",
    "dictionary i and applies the user-defined function mapper to each\n",
    "(input_key,input_value) pair, producing a list of intermediate \n",
    "keys and intermediate values.  Repeated intermediate keys then \n",
    "have their values grouped into a list, and the user-defined \n",
    "function reducer is applied to the intermediate key and list of \n",
    "intermediate values.  The results are returned as a list.\"'\n",
    "--\n",
    "'Define una sola función, map_reduce, que toma una entrada\n",
    "diccionario i y aplica el mapeador de funciones definidas por el usuario a cada\n",
    "(input_key, input_value) par, produciendo una lista de intermediarios\n",
    "claves y valores intermedios. Teclas intermedias repetidas entonces\n",
    "tienen sus valores agrupados en una lista, y los valores definidos por el usuario\n",
    "El reductor de funciones se aplica a la tecla intermedia y la lista de\n",
    "valores intermedios. Los resultados se devuelven como una lista.\"'\n",
    "'''\n",
    "\n",
    "import itertools\n",
    "\n",
    "def map_reduce(i,mapper,reducer):\n",
    "  intermediate = []\n",
    "  for (key,value) in i.items():\n",
    "    intermediate.extend(mapper(key,value))\n",
    "  groups = {}\n",
    "  for key, group in itertools.groupby(sorted(intermediate), \n",
    "                                      lambda x: x[0]):\n",
    "    groups[key] = list([y for x, y in group])\n",
    "  return [reducer(intermediate_key,groups[intermediate_key])\n",
    "          for intermediate_key in groups] \n",
    "\n",
    "print(\"map_reduce function loaded\")"
   ]
  },
  {
   "cell_type": "code",
   "execution_count": 7,
   "metadata": {},
   "outputs": [
    {
     "name": "stdout",
     "output_type": "stream",
     "text": [
      "[('a', 2), ('and', 1), ('as', 1), ('brown', 1), ('dogs.', 1), ('everywhere', 1), ('fleece', 1), ('for', 2), ('fox', 1), ('giant', 1), ('go.', 1), ('grey', 1), ('had', 1), ('its', 1), ('jumped', 1), ('lamb', 1), ('lamb,', 1), ('lazy', 1), ('leap', 1), ('little', 1), ('man,', 1), ('mankind.', 1), ('mary', 2), ('one', 2), ('over', 1), ('quick', 1), ('small', 1), ('snow;', 1), ('step', 1), ('sure', 1), ('that', 1), (\"that's\", 1), ('the', 3), ('to', 1), ('was', 2), ('went,', 1), ('white', 1)]\n"
     ]
    }
   ],
   "source": [
    "# word_count.py\n",
    "\n",
    "import string\n",
    "#import map_reduce\n",
    "\n",
    "def mapper(input_key,input_value):\n",
    "  return [(word,1) for word in \n",
    "          remove_punctuation(input_value.lower()).split()]\n",
    "\n",
    "def remove_punctuation(s):\n",
    "  # py2\n",
    "  #return s.translate(string.maketrans(\"\",\"\"), string.punctuation)\n",
    "  #return s.translate(str.maketrans(\"\",\"\"), string.punctuation)\n",
    "  # py3\n",
    "  #text = text.translate(str.maketrans('','',string.punctuation))\n",
    "  #return s.translate(\"\",\"\", string.punctuation)\n",
    "  # py3.9\n",
    "  return s.translate(str.maketrans('',''))\n",
    "\n",
    "def reducer(intermediate_key,intermediate_value_list):\n",
    "  return (intermediate_key,sum(intermediate_value_list))\n",
    "\n",
    "filenames = [\"text\\\\a.txt\",\"text\\\\b.txt\",\"text\\\\c.txt\"]\n",
    "i = {}\n",
    "for filename in filenames:\n",
    "  f = open(filename)\n",
    "  i[filename] = f.read()\n",
    "  f.close()\n",
    "\n",
    "#print(map_reduce.map_reduce(i,mapper,reducer))\n",
    "#print(map_reduce(i,mapper,reducer))\n",
    "reduce_list = map_reduce(i,mapper,reducer)\n",
    "#print(reduce_list)\n",
    "\n",
    "reduce_list.sort()\n",
    "print(reduce_list)\n"
   ]
  },
  {
   "cell_type": "code",
   "execution_count": 8,
   "metadata": {},
   "outputs": [
    {
     "name": "stdout",
     "output_type": "stream",
     "text": [
      "Hello Pam!\n"
     ]
    }
   ],
   "source": [
    "# example\n",
    "txt = \"Hello Sam!\"\n",
    "mytable = txt.maketrans(\"S\", \"P\")\n",
    "print(txt.translate(mytable))"
   ]
  },
  {
   "cell_type": "code",
   "execution_count": 26,
   "metadata": {},
   "outputs": [
    {
     "name": "stdout",
     "output_type": "stream",
     "text": [
      "[('and', 1), ('as', 1), ('brown', 1), ('dogs.', 1), ('everywhere', 1), ('fleece', 1), ('fox', 1), ('giant', 1), ('go.', 1), ('grey', 1), ('had', 1), ('its', 1), ('jumped', 1), ('lamb', 1), ('lamb,', 1), ('lazy', 1), ('leap', 1), ('little', 1), ('man,', 1), ('mankind.', 1), ('over', 1), ('quick', 1), ('small', 1), ('snow;', 1), ('step', 1), ('sure', 1), ('that', 1), (\"that's\", 1), ('to', 1), ('went,', 1), ('white', 1), ('a', 2), ('for', 2), ('mary', 2), ('one', 2), ('was', 2), ('the', 3)]\n"
     ]
    }
   ],
   "source": [
    "reduce_list.sort(key = lambda x: x[1])\n",
    "print(reduce_list)"
   ]
  },
  {
   "cell_type": "code",
   "execution_count": 27,
   "metadata": {},
   "outputs": [
    {
     "name": "stdout",
     "output_type": "stream",
     "text": [
      "[('the', 3), ('a', 2), ('for', 2), ('mary', 2), ('one', 2), ('was', 2), ('and', 1), ('as', 1), ('brown', 1), ('dogs.', 1), ('everywhere', 1), ('fleece', 1), ('fox', 1), ('giant', 1), ('go.', 1), ('grey', 1), ('had', 1), ('its', 1), ('jumped', 1), ('lamb', 1), ('lamb,', 1), ('lazy', 1), ('leap', 1), ('little', 1), ('man,', 1), ('mankind.', 1), ('over', 1), ('quick', 1), ('small', 1), ('snow;', 1), ('step', 1), ('sure', 1), ('that', 1), (\"that's\", 1), ('to', 1), ('went,', 1), ('white', 1)]\n"
     ]
    }
   ],
   "source": [
    "reduce_list.sort(key = lambda x: x[1], reverse=True)\n",
    "print(reduce_list)"
   ]
  },
  {
   "cell_type": "code",
   "execution_count": 23,
   "metadata": {},
   "outputs": [
    {
     "name": "stdout",
     "output_type": "stream",
     "text": [
      "['01.txt', '02.txt', '03.txt', '04.txt']\n"
     ]
    }
   ],
   "source": [
    "import os\n",
    "path = 'text2'\n",
    "list_filename = os.listdir(path + '/')\n",
    "print(list_filename)"
   ]
  },
  {
   "cell_type": "code",
   "execution_count": 24,
   "metadata": {},
   "outputs": [
    {
     "name": "stdout",
     "output_type": "stream",
     "text": [
      "[('+', 30), ('-', 23)]\n"
     ]
    }
   ],
   "source": [
    "# word_count2.py\n",
    "\n",
    "i = {}\n",
    "for filename in list_filename:\n",
    "  f = open(path+'\\\\'+filename)\n",
    "  i[filename] = f.read()\n",
    "  f.close()\n",
    "\n",
    "reduce_list = map_reduce(i,mapper,reducer)\n",
    "\n",
    "reduce_list.sort()\n",
    "print(reduce_list)\n"
   ]
  },
  {
   "cell_type": "code",
   "execution_count": null,
   "metadata": {},
   "outputs": [],
   "source": []
  }
 ],
 "metadata": {
  "kernelspec": {
   "display_name": "Python 3 (ipykernel)",
   "language": "python",
   "name": "python3"
  },
  "language_info": {
   "codemirror_mode": {
    "name": "ipython",
    "version": 3
   },
   "file_extension": ".py",
   "mimetype": "text/x-python",
   "name": "python",
   "nbconvert_exporter": "python",
   "pygments_lexer": "ipython3",
   "version": "3.9.12"
  }
 },
 "nbformat": 4,
 "nbformat_minor": 2
}
